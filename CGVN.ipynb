{
 "cells": [
  {
   "cell_type": "code",
   "execution_count": 7,
   "metadata": {},
   "outputs": [
    {
     "name": "stdout",
     "output_type": "stream",
     "text": [
      "True\n",
      "['cv', 'nvn']\n"
     ]
    }
   ],
   "source": [
    "grules = ['CV', 'CNV', 'CGV', 'CVG', 'CGVG', 'CGVN', 'NV', 'NVN', 'NGV', 'NVG', 'NGVG']\n",
    "\n",
    "cgvnstr = 'cvnvn'\n",
    "noncgvnstr = 'cgvncgg'\n",
    "matched = []\n",
    "\n",
    "def match_rule(string, pattern):\n",
    "    return string.startswith(pattern, 0, len(pattern))\n",
    "\n",
    "\n",
    "def cgvn_fsm(cgvnstr, rules, grules, matched):\n",
    "    #print(cgvnstr, rules)\n",
    "    if cgvnstr == \"\":\n",
    "        #print(\"Matched\")\n",
    "        return True\n",
    "    elif rules == []:\n",
    "        #print(\"Nothing matched\")\n",
    "        return False\n",
    "    else:\n",
    "        if match_rule(cgvnstr, rules[0]) and cgvn_fsm(cgvnstr[len(rules[0]):], grules, grules, matched):\n",
    "            matched.insert(0, rules[0])\n",
    "            return True\n",
    "        else:\n",
    "            return cgvn_fsm(cgvnstr, rules[1:], grules, matched)\n",
    "\n",
    "result = cgvn_fsm(cgvnstr, grules, grules, matched)\n",
    "print(result)\n",
    "#matched.reverse()\n",
    "print(matched)"
   ]
  },
  {
   "cell_type": "code",
   "execution_count": null,
   "metadata": {},
   "outputs": [],
   "source": []
  }
 ],
 "metadata": {
  "kernelspec": {
   "display_name": "Python 3",
   "language": "python",
   "name": "python3"
  },
  "language_info": {
   "codemirror_mode": {
    "name": "ipython",
    "version": 3
   },
   "file_extension": ".py",
   "mimetype": "text/x-python",
   "name": "python",
   "nbconvert_exporter": "python",
   "pygments_lexer": "ipython3",
   "version": "3.6.8"
  }
 },
 "nbformat": 4,
 "nbformat_minor": 2
}
