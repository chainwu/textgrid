{
 "cells": [
  {
   "cell_type": "code",
   "execution_count": 60,
   "metadata": {},
   "outputs": [
    {
     "name": "stdout",
     "output_type": "stream",
     "text": [
      "   SAMPA  IPA Syllable\n",
      "0    w&N  woŋ      GVN\n",
      "1    yin   in       VN\n",
      "2    W@n  ɥɛn      GVN\n",
      "3     w>   wɔ       GV\n",
      "4     wu    u        V\n",
      "5     &n   ən       VN\n",
      "6     &N   əŋ       VN\n",
      "7     wo    ɔ        V\n",
      "8      k   kʰ        C\n",
      "9      C  tʂʰ        C\n",
      "10     Z   tʂ        C\n",
      "11     x    ɕ        C\n",
      "12     q  tɕʰ        C\n",
      "13     j   tɕ        C\n",
      "14     h    x        C\n",
      "15     t   tʰ        C\n",
      "16     g    k        C\n",
      "17     l    l        C\n",
      "18     r    ʐ        C\n",
      "19     d    t        C\n",
      "20     f    f        C\n",
      "21     p   pʰ        C\n",
      "22     b    p        C\n",
      "23     N    ŋ        N\n",
      "24     n    n        N\n",
      "25     S    ʂ        C\n",
      "26     @    a        V\n",
      "27     z   ts        C\n",
      "28     R    ɚ        V\n",
      "29     &    ɤ        V\n",
      "30     y    j        G\n",
      "31     w    w        G\n",
      "32     W    ɥ        G\n",
      "33     U    y        V\n",
      "34     u    u        V\n",
      "35     i    i        V\n",
      "36     I    ɨ        V\n",
      "37     c  tsʰ        C\n",
      "38     %    ɨ        V\n",
      "39     o    o        V\n",
      "40     e    e        V\n",
      "41     E    ɛ        V\n",
      "42     >    ɔ        V\n",
      "43     a    a        V\n",
      "44     s    s        C\n",
      "45     m    m        N\n",
      "w&N|yin|W@n|w>|wu|&n|&N|wo|k|C|Z|x|q|j|h|t|g|l|r|d|f|p|b|N|n|S|@|z|R|&|y|w|W|U|u|i|I|c|%|o|e|E|>|a|s|m\n"
     ]
    }
   ],
   "source": [
    "import pandas as pd\n",
    "import re\n",
    "\n",
    "def build_sampa_table()\n",
    "    sampadict = pd.read_excel(\"SAMPA_revised.xlsx\")\n",
    "    #ssampa = sampadict.sort_values(by=SAMPA.str.len())\n",
    "    s=sampadict.SAMPA.str.len().sort_values(ascending=False).index\n",
    "    smp = sampadict.reindex(s)\n",
    "    smp = smp.reset_index(drop=True)\n",
    "    print(smp)\n",
    "    \n",
    "    ptnstr = smp['SAMPA'].to_string(index=False).replace(\"\\n\",\"|\").replace(\" \",\"\")\n",
    "    print(ptnstr)\n",
    "    #newidx = sampadict.SAMPA.str.len().sort_values(ascending=False)\n",
    "    ptn = re.compile(ptnstr)\n",
    "    \n",
    "    return (ptn, smp)"
   ]
  },
  {
   "cell_type": "code",
   "execution_count": 63,
   "metadata": {},
   "outputs": [
    {
     "name": "stdout",
     "output_type": "stream",
     "text": [
      "w  G\n",
      "&  V\n",
      "w  G\n",
      "N  N\n",
      "yin  VN\n",
      "W@n  GVN\n",
      "w>  GV\n",
      "wu  V\n",
      "&  V\n",
      "@  V\n",
      "&n  VN\n",
      "&  V\n",
      "&N  VN\n",
      "w  G\n",
      "wo  V\n"
     ]
    }
   ],
   "source": [
    "sa1 = 'w&wNyinW@nw>wu&@&n&&Nwwo'\n",
    "idx = 0\n",
    "while idx < len(sa1):\n",
    "    ma = re.match(ptn, sa1[idx:])\n",
    "    print(ma.group(), end=\" \")\n",
    "    print(smp[smp['SAMPA']==ma.group()].Syllable.to_string(index=False))\n",
    "    idx += len(ma.group())\n"
   ]
  },
  {
   "cell_type": "code",
   "execution_count": null,
   "metadata": {},
   "outputs": [],
   "source": []
  }
 ],
 "metadata": {
  "kernelspec": {
   "display_name": "Python 3",
   "language": "python",
   "name": "python3"
  },
  "language_info": {
   "codemirror_mode": {
    "name": "ipython",
    "version": 3
   },
   "file_extension": ".py",
   "mimetype": "text/x-python",
   "name": "python",
   "nbconvert_exporter": "python",
   "pygments_lexer": "ipython3",
   "version": "3.6.8"
  }
 },
 "nbformat": 4,
 "nbformat_minor": 2
}
