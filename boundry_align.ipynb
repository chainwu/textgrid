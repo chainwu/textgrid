{
 "cells": [
  {
   "cell_type": "code",
   "execution_count": 1,
   "metadata": {},
   "outputs": [],
   "source": [
    "Special = ['sp', 'spn']"
   ]
  },
  {
   "cell_type": "code",
   "execution_count": 2,
   "metadata": {},
   "outputs": [],
   "source": [
    "import tgt\n",
    "\n",
    "tg = tgt.io.read_textgrid('03052019_step1.TextGrid.utf8')\n",
    "ophonetier = tg.get_tier_by_name('IU/phone')\n",
    "owordtier =  tg.get_tier_by_name('Word')\n",
    "\n",
    "phonetier = ophonetier.get_copy_with_gaps_filled()\n",
    "wordtier  = owordtier.get_copy_with_gaps_filled()\n",
    "\n",
    "pst = phonetier.start_time\n",
    "pet = phonetier.end_time\n",
    "\n",
    "wst = wordtier.start_time\n",
    "wet = wordtier.end_time\n",
    "\n",
    "st = pst\n",
    "et = pet\n",
    "\n",
    "#print(wordtier)\n",
    "#print(phonetier)\n",
    "\n",
    "#ann = wordtier.get_annotations_between_timepoints(3.4203639873412612, 3.510363987341293)\n",
    "#print(ann)\n",
    "\n",
    "#ann = phonetier.get_annotations_between_timepoints(3.4203639873412612, 3.510363987341293, True, False)\n",
    "#print(ann)"
   ]
  },
  {
   "cell_type": "code",
   "execution_count": 3,
   "metadata": {},
   "outputs": [],
   "source": [
    "import numpy as np\n",
    "import math\n",
    "\n",
    "def remove_noise(tr):\n",
    "    for o in tr._objects:\n",
    "        if o.duration() < 0.01:\n",
    "            tr.delete_annotation_by_start_time(o.start_time)\n",
    "\n",
    "def filling_gap(tr):\n",
    "    tr.start_time = 0\n",
    "    o = tr._objects[0]\n",
    "    if o.start_time != 0:\n",
    "        o.start_time = 0\n",
    "    o = tr._objects[-1]\n",
    "    if o.end_time != tr.end_time:\n",
    "        o.end_time = tr.end_time\n",
    "    for i in range(1..len(tr._objects)):\n",
    "        if tr._objects[i].start_time != tr._objects[i-1].end_time:\n",
    "            tr._objects[i].start_time = tr.objects[i-1].end_time\n",
    "\n",
    "def align_tiers(wtr, ptr):\n",
    "    for w in wtr._objects:\n",
    "        wst = w.start_time\n",
    "        wet = w.end_time\n",
    "        pann = ptr.get_annotations_between_timepoints(w.start_time, w.end_time, False, False)\n",
    "        #print(wst, wet, pann[0].start_time, pann[-1].end_time)\n",
    "        \n",
    "        #print(\"Wst:\", math.isclose(wst, pann[0].start_time), wst, pann[0].start_time)\n",
    "        if not math.isclose(wst, pann[0].start_time):\n",
    "            pann2 = ptr.get_annotations_between_timepoints(w.start_time, w.end_time, True, False)\n",
    "            pst1 = pann[0].start_time\n",
    "            pst2 = pann2[0].start_time\n",
    "            #print(\"S:\", w.start_time, pann[0].start_time, pann2[0].start_time)\n",
    "            if abs(wst - pst1) < abs(wst - pst2):\n",
    "                pann[0].start_time = wst\n",
    "            else:\n",
    "                pann2[0].start_time = wst\n",
    "        \n",
    "        #print(\"Wet:\", math.isclose(wet, pann[-1].end_time), wet, pann[-1].end_time)\n",
    "        if  not math.isclose(wet, pann[-1].end_time):\n",
    "            pann2 = ptr.get_annotations_between_timepoints(w.start_time, w.end_time, False, True)\n",
    "            pet1 = pann[-1].end_time\n",
    "            pet2 = pann2[-1].end_time\n",
    "            #print(\"E: \", wet, pann[-1].end_time, pann2[-1].end_time)\n",
    "            if abs(wet - pet1) < abs(wet - pet2):\n",
    "                pann[-1].end_time = wet\n",
    "            else:\n",
    "                pann2[-1].end_time = wet\n",
    "            "
   ]
  },
  {
   "cell_type": "code",
   "execution_count": 4,
   "metadata": {},
   "outputs": [
    {
     "name": "stdout",
     "output_type": "stream",
     "text": [
      "\n",
      "IntervalTier(start_time=0.0, end_time=3.680363987341252, name=\"IU/phone\", objects=[Interval(0.0, 0.03036398734127488, \"n\"), Interval(0.03036398734127488, 0.06036398734130444, \"i\"), Interval(0.06036398734130444, 0.2203639873412726, \"\"), Interval(0.2203639873412726, 0.25036398734130216, \"Z\"), Interval(0.25036398734130216, 0.34036398734127715, \"%\"), Interval(0.34036398734127715, 0.42036398734126124, \"d\"), Interval(0.42036398734126124, 0.4803639873412635, \"a\"), Interval(0.4803639873412635, 0.520363987341284, \"w\"), Interval(0.520363987341284, 0.5903639873412772, \"g\"), Interval(0.5903639873412772, 0.6303639873412976, \"&\"), Interval(0.6303639873412976, 0.6901303533302894, \"n\"), Interval(0.6901303533302894, 0.7247191411732956, \"U\"), Interval(0.7247191411732956, 0.7435857527240728, \"y\"), Interval(0.7435857527240728, 0.7687412347917189, \"E\"), Interval(0.7687412347917189, 0.7928485717732201, \"n\"), Interval(0.7928485717732201, 0.8169559087547782, \"x\"), Interval(0.8169559087547782, 0.8337262301332089, \"W\"), Interval(0.8337262301332089, 0.8567854220285653, \"E\"), Interval(0.8567854220285653, 0.86936316306236, \"j\"), Interval(0.86936316306236, 0.884037194268501, \"y\"), Interval(0.884037194268501, 0.9203639873412612, \"@\"), Interval(0.9203639873412612, 0.9803639873412635, \"C\"), Interval(0.9803639873412635, 1.0603639873413044, \"%\"), Interval(1.0603639873413044, 1.110363987341259, \"f\"), Interval(1.110363987341259, 1.2203639873412726, \"@\"), Interval(1.2203639873412726, 1.250688888273828, \"n\"), Interval(1.250688888273828, 1.3303639873412862, \"S\"), Interval(1.3303639873412862, 1.4003639873412794, \"%\"), Interval(1.4003639873412794, 1.5003639873413022, \"i\"), Interval(1.5003639873413022, 1.600363987341268, \"j\"), Interval(1.600363987341268, 1.6503639873412794, \"y\"), Interval(1.6503639873412794, 1.6903639873413, \"E\"), Interval(1.6903639873413, 1.7203639873412726, \"n\"), Interval(1.7203639873412726, 1.7503639873413022, \"h\"), Interval(1.7503639873413022, 1.7803639873412749, \"&\"), Interval(1.7803639873412749, 1.8703639873412499, \"n\"), Interval(1.8703639873412499, 1.9803639873412635, \"k\"), Interval(1.9803639873412635, 2.030363987341275, \"&\"), Interval(2.030363987341275, 2.100363987341268, \"p\"), Interval(2.100363987341268, 2.2103639873412817, \"a\"), Interval(2.2103639873412817, 2.2403639873412544, \"\"), Interval(2.2403639873412544, 2.270363987341284, \"d\"), Interval(2.270363987341284, 2.340363987341277, \"&\"), Interval(2.340363987341277, 2.4603639873412817, \"S\"), Interval(2.4603639873412817, 2.4903639873412544, \"%\"), Interval(2.4903639873412544, 2.540363987341266, \"R\"), Interval(2.540363987341266, 2.5803639873412862, \"q\"), Interval(2.5803639873412862, 2.610363987341259, \"y\"), Interval(2.610363987341259, 2.6403639873412885, \"E\"), Interval(2.6403639873412885, 2.700363987341291, \"S\"), Interval(2.700363987341291, 2.7403639873412544, \"%\"), Interval(2.7403639873412544, 2.8103639873413044, \"h\"), Interval(2.8103639873413044, 2.840363987341277, \"&\"), Interval(2.840363987341277, 2.950363987341291, \"n\"), Interval(2.950363987341291, 3.030363987341275, \"t\"), Interval(3.030363987341275, 3.0803639873412862, \"o\"), Interval(3.0803639873412862, 3.1903639873413, \"N\"), Interval(3.1903639873413, 3.2303639873412635, \"k\"), Interval(3.2303639873412635, 3.3039594604417744, \"u\"), Interval(3.3039594604417744, 3.3186334916479154, \"d\"), Interval(3.3186334916479154, 3.37036398734125, \"&\"), Interval(3.37036398734125, 3.4203639873412612, \"\"), Interval(3.4203639873412612, 3.437073886383132, \"S\"), Interval(3.437073886383132, 3.510363987341293, \"%\"), Interval(3.510363987341293, 3.680363987341252, \"\")])\n"
     ]
    }
   ],
   "source": [
    "nphonetier = ophonetier.get_copy_with_gaps_filled()\n",
    "nwordtier  = owordtier.get_copy_with_gaps_filled()\n",
    "remove_noise(nphonetier)\n",
    "align_tiers(nwordtier, nphonetier)\n",
    "print()\n",
    "print(nphonetier)"
   ]
  },
  {
   "cell_type": "code",
   "execution_count": 5,
   "metadata": {},
   "outputs": [],
   "source": [
    "newtg = tgt.core.TextGrid()\n",
    "\n",
    "newtg.add_tier(nwordtier)\n",
    "newtg.add_tier(nphonetier)\n",
    "tgt.io.write_to_file(newtg, \"newresult.TextGrid\")\n"
   ]
  },
  {
   "cell_type": "code",
   "execution_count": null,
   "metadata": {},
   "outputs": [],
   "source": []
  },
  {
   "cell_type": "code",
   "execution_count": null,
   "metadata": {},
   "outputs": [],
   "source": []
  }
 ],
 "metadata": {
  "kernelspec": {
   "display_name": "Python 3",
   "language": "python",
   "name": "python3"
  },
  "language_info": {
   "codemirror_mode": {
    "name": "ipython",
    "version": 3
   },
   "file_extension": ".py",
   "mimetype": "text/x-python",
   "name": "python",
   "nbconvert_exporter": "python",
   "pygments_lexer": "ipython3",
   "version": "3.6.8"
  }
 },
 "nbformat": 4,
 "nbformat_minor": 2
}
