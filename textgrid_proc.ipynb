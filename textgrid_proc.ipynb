{
 "cells": [
  {
   "cell_type": "code",
   "execution_count": 1,
   "metadata": {},
   "outputs": [],
   "source": [
    "from __future__ import print_function, division\n",
    "\n",
    "import os\n",
    "import sys\n",
    "\n",
    "import tgt\n",
    "\n",
    "EXTENSION = 'TextGrid'\n",
    "\n",
    "def print_tiernames(filenames):\n",
    "\tfor filename in filenames:\n",
    "\t\ttry:\n",
    "\t\t\ttg = tgt.io.read_textgrid(filename)\n",
    "\t\t\tprint(filename)\n",
    "\t\t\tfor tiername in tg.get_tier_names():\n",
    "\t\t\t\tprint('\\t' + tiername)\n",
    "\t\texcept err:\n",
    "\t\t\tprint(filename + ' caused a problem.')\n",
    "\t\t\tsys.stderr.write('ERROR: %s\\n' % str(err))\n",
    "\n",
    "#def main():\n",
    "#    if argv is None:\n",
    "#        argv = sys.argv\n",
    "#    if len(argv) < 2:\n",
    "#        print('USAGE: ' + argv[0] + ' <list of TextGrid files or directories>')\n",
    "\n",
    "#\tlist_of_tg_files = []\n",
    "#\tfor arg in argv[1:]:\n",
    "#\t\tif os.path.exists(arg):\n",
    "#\t\t\tif os.path.isdir(arg):\n",
    "#\t\t\t\tlist_of_tg_files += [arg + '/' + filename for filename in os.listdir(arg) if filename.endswith(EXTENSION)]\n",
    "#\t\t\telse:\n",
    "#\t\t\t\tlist_of_tg_files.append(arg)\n",
    "#\t\telse:\n",
    "#\t\t\traise FileNotFoundException(arg)\n",
    "\n",
    "#if __name__ == '__main__':\n",
    "#    sys.exit(main())"
   ]
  },
  {
   "cell_type": "code",
   "execution_count": 2,
   "metadata": {},
   "outputs": [],
   "source": [
    "def read_txtgrid(filename):\n",
    "    tg = tgt.io.read_textgrid(filename)\n",
    "    return tg\n",
    "\n",
    "def add_text_tier(tg, NNM=\"\"):\n",
    "    new_tier = tgt.core.PointTier(name=NNM)\n",
    "    tg.add_tier(new_tier)\n",
    "    return new_tier\n",
    "\n",
    "def add_interval_tier(tg, NNM=\"\", STT=0, ETT=0):\n",
    "    new_tier = tgt.core.IntervalTier(name=NNM, start_time = STT, end_time = ETT)\n",
    "    tg.add_tier(new_tier)\n",
    "    return new_tier\n",
    "\n",
    "def print_tier(tg):\n",
    "    for tiername in tg.get_tier_names():\n",
    "        print('\\t' + tiername)   \n",
    "\n",
    "def write_txtgrid(tg, NNM):\n",
    "    tgt.io.write_to_file(tg, filename=NNM )"
   ]
  },
  {
   "cell_type": "code",
   "execution_count": 3,
   "metadata": {
    "scrolled": true
   },
   "outputs": [],
   "source": [
    "tg = read_txtgrid('a03.textgrid')\n",
    "phonetier = tg.get_tier_by_name('phone')\n",
    "wordtier =  tg.get_tier_by_name('word')\n",
    "st = phonetier.start_time\n",
    "et = phonetier.end_time\n",
    "\n",
    "newtg = tgt.core.TextGrid(\"A0303.textgrid\")\n",
    "\n",
    "ctext = \"你昨天幾點回家啊\"\n",
    "ctier = add_text_tier(newtg, \"Chinese\")\n",
    "cann = tgt.core.Point((et-st)/2.0, ctext)\n",
    "ctier.add_annotation(cann)"
   ]
  },
  {
   "cell_type": "code",
   "execution_count": 4,
   "metadata": {},
   "outputs": [
    {
     "name": "stdout",
     "output_type": "stream",
     "text": [
      "What time did you go home yesterday?\n"
     ]
    }
   ],
   "source": [
    "from googletrans import Translator\n",
    "translator = Translator()\n",
    "tr = translator.translate(ctext, dest = 'en')\n",
    "print (tr.text)"
   ]
  },
  {
   "cell_type": "code",
   "execution_count": 5,
   "metadata": {},
   "outputs": [
    {
     "name": "stdout",
     "output_type": "stream",
     "text": [
      "\tChinese\n",
      "\tEnglish\n",
      "\tword\n",
      "\tphone\n",
      "\tSyllabus\n",
      "\tTone\n",
      "\tphone\n",
      "\tSyllabus\n",
      "\tTone\n",
      "\tError Type\n",
      "\tSubject\n"
     ]
    }
   ],
   "source": [
    "etier = add_text_tier(newtg, \"English\")\n",
    "eann = tgt.core.Point((et-st)/2.0,tr.text)\n",
    "etier.add_annotation(eann)\n",
    "\n",
    "# Two tiers from original textgrid file\n",
    "newtg.add_tier(wordtier)\n",
    "newtg.add_tier(phonetier)\n",
    "\n",
    "sy1tier = add_interval_tier(newtg, \"Syllabus\", st, et)\n",
    "to1tier = add_interval_tier(newtg, \"Tone\", st, et)\n",
    "\n",
    "newtg.add_tier(phonetier)\n",
    "\n",
    "sy2tier = add_interval_tier(newtg, \"Syllabus\", st, et)\n",
    "to2tier = add_interval_tier(newtg, \"Tone\", st, et)\n",
    "\n",
    "errtier = add_interval_tier(newtg, \"Error Type\", st, et)\n",
    "subtier = add_text_tier(newtg, \"Subject\")\n",
    "\n",
    "print_tier(newtg)\n",
    "write_txtgrid(newtg, \"A0303.textgrid\")"
   ]
  },
  {
   "cell_type": "code",
   "execution_count": null,
   "metadata": {},
   "outputs": [],
   "source": []
  }
 ],
 "metadata": {
  "kernelspec": {
   "display_name": "Python 3",
   "language": "python",
   "name": "python3"
  },
  "language_info": {
   "codemirror_mode": {
    "name": "ipython",
    "version": 3
   },
   "file_extension": ".py",
   "mimetype": "text/x-python",
   "name": "python",
   "nbconvert_exporter": "python",
   "pygments_lexer": "ipython3",
   "version": "3.6.8"
  }
 },
 "nbformat": 4,
 "nbformat_minor": 2
}
